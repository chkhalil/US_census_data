{
 "cells": [
  {
   "cell_type": "markdown",
   "metadata": {},
   "source": [
    "# DATAIKU CHALLENGE\n",
    "author: Khalil CHOUROU"
   ]
  },
  {
   "cell_type": "markdown",
   "metadata": {},
   "source": [
    "The first step is to load data and add header to Dataframe since it is missing from the train set. I was based on census_income_metadata.txt file to do this step."
   ]
  },
  {
   "cell_type": "code",
   "execution_count": 1,
   "metadata": {
    "collapsed": false
   },
   "outputs": [
    {
     "data": {
      "text/html": [
       "<div>\n",
       "<table border=\"1\" class=\"dataframe\">\n",
       "  <thead>\n",
       "    <tr style=\"text-align: right;\">\n",
       "      <th></th>\n",
       "      <th>age</th>\n",
       "      <th>class_of_worker</th>\n",
       "      <th>industry_code</th>\n",
       "      <th>occupation_code</th>\n",
       "      <th>education</th>\n",
       "      <th>wage_per_hour</th>\n",
       "      <th>enrolled_in_edu_inst_last_wk</th>\n",
       "      <th>marital_status</th>\n",
       "      <th>major_industry_code</th>\n",
       "      <th>major_occupation_code</th>\n",
       "      <th>...</th>\n",
       "      <th>country_of_birth_father</th>\n",
       "      <th>country_of_birth_mother</th>\n",
       "      <th>country_of_birth_self</th>\n",
       "      <th>citizenship</th>\n",
       "      <th>own_business_or_self_employed</th>\n",
       "      <th>fill_inc_questionnaire_for_veterans</th>\n",
       "      <th>veterans_benefit</th>\n",
       "      <th>weeks_worked_in_year</th>\n",
       "      <th>year</th>\n",
       "      <th>income</th>\n",
       "    </tr>\n",
       "  </thead>\n",
       "  <tbody>\n",
       "    <tr>\n",
       "      <th>0</th>\n",
       "      <td>58</td>\n",
       "      <td>Self-employed-not incorporated</td>\n",
       "      <td>4</td>\n",
       "      <td>34</td>\n",
       "      <td>Some college but no degree</td>\n",
       "      <td>0</td>\n",
       "      <td>Not in universe</td>\n",
       "      <td>Divorced</td>\n",
       "      <td>Construction</td>\n",
       "      <td>Precision production craft &amp; repair</td>\n",
       "      <td>...</td>\n",
       "      <td>United-States</td>\n",
       "      <td>United-States</td>\n",
       "      <td>United-States</td>\n",
       "      <td>Native- Born in the United States</td>\n",
       "      <td>0</td>\n",
       "      <td>Not in universe</td>\n",
       "      <td>2</td>\n",
       "      <td>52</td>\n",
       "      <td>94</td>\n",
       "      <td>- 50000.</td>\n",
       "    </tr>\n",
       "    <tr>\n",
       "      <th>1</th>\n",
       "      <td>18</td>\n",
       "      <td>Not in universe</td>\n",
       "      <td>0</td>\n",
       "      <td>0</td>\n",
       "      <td>10th grade</td>\n",
       "      <td>0</td>\n",
       "      <td>High school</td>\n",
       "      <td>Never married</td>\n",
       "      <td>Not in universe or children</td>\n",
       "      <td>Not in universe</td>\n",
       "      <td>...</td>\n",
       "      <td>Vietnam</td>\n",
       "      <td>Vietnam</td>\n",
       "      <td>Vietnam</td>\n",
       "      <td>Foreign born- Not a citizen of U S</td>\n",
       "      <td>0</td>\n",
       "      <td>Not in universe</td>\n",
       "      <td>2</td>\n",
       "      <td>0</td>\n",
       "      <td>95</td>\n",
       "      <td>- 50000.</td>\n",
       "    </tr>\n",
       "    <tr>\n",
       "      <th>2</th>\n",
       "      <td>9</td>\n",
       "      <td>Not in universe</td>\n",
       "      <td>0</td>\n",
       "      <td>0</td>\n",
       "      <td>Children</td>\n",
       "      <td>0</td>\n",
       "      <td>Not in universe</td>\n",
       "      <td>Never married</td>\n",
       "      <td>Not in universe or children</td>\n",
       "      <td>Not in universe</td>\n",
       "      <td>...</td>\n",
       "      <td>United-States</td>\n",
       "      <td>United-States</td>\n",
       "      <td>United-States</td>\n",
       "      <td>Native- Born in the United States</td>\n",
       "      <td>0</td>\n",
       "      <td>Not in universe</td>\n",
       "      <td>0</td>\n",
       "      <td>0</td>\n",
       "      <td>94</td>\n",
       "      <td>- 50000.</td>\n",
       "    </tr>\n",
       "    <tr>\n",
       "      <th>3</th>\n",
       "      <td>10</td>\n",
       "      <td>Not in universe</td>\n",
       "      <td>0</td>\n",
       "      <td>0</td>\n",
       "      <td>Children</td>\n",
       "      <td>0</td>\n",
       "      <td>Not in universe</td>\n",
       "      <td>Never married</td>\n",
       "      <td>Not in universe or children</td>\n",
       "      <td>Not in universe</td>\n",
       "      <td>...</td>\n",
       "      <td>United-States</td>\n",
       "      <td>United-States</td>\n",
       "      <td>United-States</td>\n",
       "      <td>Native- Born in the United States</td>\n",
       "      <td>0</td>\n",
       "      <td>Not in universe</td>\n",
       "      <td>0</td>\n",
       "      <td>0</td>\n",
       "      <td>94</td>\n",
       "      <td>- 50000.</td>\n",
       "    </tr>\n",
       "    <tr>\n",
       "      <th>4</th>\n",
       "      <td>48</td>\n",
       "      <td>Private</td>\n",
       "      <td>40</td>\n",
       "      <td>10</td>\n",
       "      <td>Some college but no degree</td>\n",
       "      <td>1200</td>\n",
       "      <td>Not in universe</td>\n",
       "      <td>Married-civilian spouse present</td>\n",
       "      <td>Entertainment</td>\n",
       "      <td>Professional specialty</td>\n",
       "      <td>...</td>\n",
       "      <td>Philippines</td>\n",
       "      <td>United-States</td>\n",
       "      <td>United-States</td>\n",
       "      <td>Native- Born in the United States</td>\n",
       "      <td>2</td>\n",
       "      <td>Not in universe</td>\n",
       "      <td>2</td>\n",
       "      <td>52</td>\n",
       "      <td>95</td>\n",
       "      <td>- 50000.</td>\n",
       "    </tr>\n",
       "  </tbody>\n",
       "</table>\n",
       "<p>5 rows × 42 columns</p>\n",
       "</div>"
      ],
      "text/plain": [
       "   age                  class_of_worker  industry_code  occupation_code  \\\n",
       "0   58   Self-employed-not incorporated              4               34   \n",
       "1   18                  Not in universe              0                0   \n",
       "2    9                  Not in universe              0                0   \n",
       "3   10                  Not in universe              0                0   \n",
       "4   48                          Private             40               10   \n",
       "\n",
       "                     education  wage_per_hour enrolled_in_edu_inst_last_wk  \\\n",
       "0   Some college but no degree              0              Not in universe   \n",
       "1                   10th grade              0                  High school   \n",
       "2                     Children              0              Not in universe   \n",
       "3                     Children              0              Not in universe   \n",
       "4   Some college but no degree           1200              Not in universe   \n",
       "\n",
       "                     marital_status           major_industry_code  \\\n",
       "0                          Divorced                  Construction   \n",
       "1                     Never married   Not in universe or children   \n",
       "2                     Never married   Not in universe or children   \n",
       "3                     Never married   Not in universe or children   \n",
       "4   Married-civilian spouse present                 Entertainment   \n",
       "\n",
       "                  major_occupation_code    ...     country_of_birth_father  \\\n",
       "0   Precision production craft & repair    ...               United-States   \n",
       "1                       Not in universe    ...                     Vietnam   \n",
       "2                       Not in universe    ...               United-States   \n",
       "3                       Not in universe    ...               United-States   \n",
       "4                Professional specialty    ...                 Philippines   \n",
       "\n",
       "  country_of_birth_mother country_of_birth_self  \\\n",
       "0           United-States         United-States   \n",
       "1                 Vietnam               Vietnam   \n",
       "2           United-States         United-States   \n",
       "3           United-States         United-States   \n",
       "4           United-States         United-States   \n",
       "\n",
       "                            citizenship own_business_or_self_employed  \\\n",
       "0     Native- Born in the United States                             0   \n",
       "1   Foreign born- Not a citizen of U S                              0   \n",
       "2     Native- Born in the United States                             0   \n",
       "3     Native- Born in the United States                             0   \n",
       "4     Native- Born in the United States                             2   \n",
       "\n",
       "  fill_inc_questionnaire_for_veterans  veterans_benefit  weeks_worked_in_year  \\\n",
       "0                     Not in universe                 2                    52   \n",
       "1                     Not in universe                 2                     0   \n",
       "2                     Not in universe                 0                     0   \n",
       "3                     Not in universe                 0                     0   \n",
       "4                     Not in universe                 2                    52   \n",
       "\n",
       "   year     income  \n",
       "0    94   - 50000.  \n",
       "1    95   - 50000.  \n",
       "2    94   - 50000.  \n",
       "3    94   - 50000.  \n",
       "4    95   - 50000.  \n",
       "\n",
       "[5 rows x 42 columns]"
      ]
     },
     "execution_count": 1,
     "metadata": {},
     "output_type": "execute_result"
    }
   ],
   "source": [
    "import matplotlib.pyplot as plt\n",
    "%matplotlib inline\n",
    "plt.style.use('ggplot')\n",
    "import pandas as pd\n",
    "import numpy as np\n",
    "from patsy import dmatrices\n",
    "from sklearn import tree\n",
    "from sklearn.externals.six import StringIO  \n",
    "from sklearn import linear_model,cross_validation\n",
    "\n",
    "data = pd.read_csv('census_income_learn.csv', sep=',')\n",
    "data.columns = ['age', 'class_of_worker','industry_code','occupation_code','education',\n",
    "                'wage_per_hour','enrolled_in_edu_inst_last_wk','marital_status','major_industry_code',\n",
    "               'major_occupation_code','race','hispanic_Origin','sex','member_of_a_labor_union','reason_for_unemployment',\n",
    "               'full_or_part_time_employment_stat','capital_gains','capital_losses','divdends_from_stocks',\n",
    "               'tax_filer_status','region_of_previous_residence','state_of_previous_residence','detailed_household_and_family_stat',\n",
    "               'detailed_household_summary_in_household','instances_weight','migration_code_change_in_msa',\n",
    "               'migration_code_change_in_reg','migration_code_move_within_reg','live_in_this_house_1_year_ago',\n",
    "               'migration_prev_res_in_sunbelt','num_persons_worked_for_employer','family_members_under_18',\n",
    "               'country_of_birth_father','country_of_birth_mother','country_of_birth_self','citizenship','own_business_or_self_employed',\n",
    "                'fill_inc_questionnaire_for_veterans','veterans_benefit',\n",
    "               'weeks_worked_in_year','year','income']\n",
    "data.head()                                   \n",
    "    "
   ]
  },
  {
   "cell_type": "markdown",
   "metadata": {
    "collapsed": true
   },
   "source": [
    "<strong>Data cleaning</strong>\n",
    "\n",
    "At this point, we will study the purity of our data by identifiying missing values per column. \"Not in universe\" refers\n",
    "to \"nan\" which is the empty value recognized by default by pandas. Hence, we will replace \"Not in universe\" by \"nan\" value then we evaluate the emptyness percentage per column"
   ]
  },
  {
   "cell_type": "code",
   "execution_count": 226,
   "metadata": {
    "collapsed": false
   },
   "outputs": [
    {
     "name": "stdout",
     "output_type": "stream",
     "text": [
      "age                                        1.000000\n",
      "class_of_worker                            0.497579\n",
      "industry_code                              1.000000\n",
      "occupation_code                            1.000000\n",
      "education                                  1.000000\n",
      "wage_per_hour                              1.000000\n",
      "enrolled_in_edu_inst_last_wk               0.063051\n",
      "marital_status                             1.000000\n",
      "major_industry_code                        0.495379\n",
      "major_occupation_code                      0.495379\n",
      "race                                       1.000000\n",
      "hispanic_Origin                            1.000000\n",
      "sex                                        1.000000\n",
      "member_of_a_labor_union                    0.095548\n",
      "reason_for_unemployment                    0.030423\n",
      "full_or_part_time_employment_stat          1.000000\n",
      "capital_gains                              1.000000\n",
      "capital_losses                             1.000000\n",
      "divdends_from_stocks                       1.000000\n",
      "tax_filer_status                           1.000000\n",
      "region_of_previous_residence               0.079054\n",
      "state_of_previous_residence                0.079054\n",
      "detailed_household_and_family_stat         1.000000\n",
      "detailed_household_summary_in_household    1.000000\n",
      "instances_weight                           1.000000\n",
      "migration_code_change_in_msa               0.992402\n",
      "migration_code_change_in_reg               0.992402\n",
      "migration_code_move_within_reg             0.992402\n",
      "live_in_this_house_1_year_ago              0.492733\n",
      "migration_prev_res_in_sunbelt              0.578723\n",
      "num_persons_worked_for_employer            1.000000\n",
      "family_members_under_18                    0.277117\n",
      "country_of_birth_father                    1.000000\n",
      "country_of_birth_mother                    1.000000\n",
      "country_of_birth_self                      1.000000\n",
      "citizenship                                1.000000\n",
      "own_business_or_self_employed              1.000000\n",
      "fill_inc_questionnaire_for_veterans        0.009944\n",
      "veterans_benefit                           1.000000\n",
      "weeks_worked_in_year                       1.000000\n",
      "year                                       1.000000\n",
      "income                                     1.000000\n",
      "dtype: float64\n"
     ]
    }
   ],
   "source": [
    "data.replace('[ ]*Not in universe',np.nan, inplace=True,regex=True)   # replace not in universe with nan in order to drop rows containing \n",
    "print data.count(0)/data.shape[0]\n"
   ]
  },
  {
   "cell_type": "markdown",
   "metadata": {},
   "source": [
    "Columns containig empty values lower than 90% will be discarded from our study since they do not bring relevant information. In fact by including \"Not in universe\" we would consider that value as a feature by itself while in reality it mapps to different features of a given column (for example not in universe for column region of previous residence could be New York for some observations and Georgia for others). This would lead to error while performing the learning since we would attach same coefficient to observations sharing the feature \"Not in universe\" while in reality they should not.\n",
    "\n",
    "The last column income is the target that we want to predict. According to the given problem, we want to predict if a citizen would earn more or less than 50K$. This is a classification problem so we would replace 5000+ by 1 and 5000- by -1.\n",
    "\n",
    "<strong> Columns description </strong>"
   ]
  },
  {
   "cell_type": "code",
   "execution_count": 2,
   "metadata": {
    "collapsed": false
   },
   "outputs": [
    {
     "data": {
      "text/html": [
       "<div>\n",
       "<table border=\"1\" class=\"dataframe\">\n",
       "  <thead>\n",
       "    <tr style=\"text-align: right;\">\n",
       "      <th></th>\n",
       "      <th>age</th>\n",
       "      <th>industry_code</th>\n",
       "      <th>occupation_code</th>\n",
       "      <th>wage_per_hour</th>\n",
       "      <th>capital_gains</th>\n",
       "      <th>capital_losses</th>\n",
       "      <th>divdends_from_stocks</th>\n",
       "      <th>instances_weight</th>\n",
       "      <th>num_persons_worked_for_employer</th>\n",
       "      <th>own_business_or_self_employed</th>\n",
       "      <th>veterans_benefit</th>\n",
       "      <th>weeks_worked_in_year</th>\n",
       "      <th>year</th>\n",
       "      <th>income</th>\n",
       "    </tr>\n",
       "  </thead>\n",
       "  <tbody>\n",
       "    <tr>\n",
       "      <th>count</th>\n",
       "      <td>199522.000000</td>\n",
       "      <td>199522.000000</td>\n",
       "      <td>199522.000000</td>\n",
       "      <td>199522.000000</td>\n",
       "      <td>199522.000000</td>\n",
       "      <td>199522.000000</td>\n",
       "      <td>199522.000000</td>\n",
       "      <td>199522.000000</td>\n",
       "      <td>199522.000000</td>\n",
       "      <td>199522.000000</td>\n",
       "      <td>199522.000000</td>\n",
       "      <td>199522.000000</td>\n",
       "      <td>199522.000000</td>\n",
       "      <td>199522.000000</td>\n",
       "    </tr>\n",
       "    <tr>\n",
       "      <th>mean</th>\n",
       "      <td>34.494006</td>\n",
       "      <td>15.352397</td>\n",
       "      <td>11.306613</td>\n",
       "      <td>55.427186</td>\n",
       "      <td>434.721169</td>\n",
       "      <td>37.313975</td>\n",
       "      <td>197.530523</td>\n",
       "      <td>1740.380471</td>\n",
       "      <td>1.956190</td>\n",
       "      <td>0.175439</td>\n",
       "      <td>1.514830</td>\n",
       "      <td>23.175013</td>\n",
       "      <td>94.499669</td>\n",
       "      <td>0.062058</td>\n",
       "    </tr>\n",
       "    <tr>\n",
       "      <th>std</th>\n",
       "      <td>22.310785</td>\n",
       "      <td>18.067141</td>\n",
       "      <td>14.454218</td>\n",
       "      <td>274.897115</td>\n",
       "      <td>4697.542951</td>\n",
       "      <td>271.897097</td>\n",
       "      <td>1984.168581</td>\n",
       "      <td>993.770642</td>\n",
       "      <td>2.365127</td>\n",
       "      <td>0.553696</td>\n",
       "      <td>0.851475</td>\n",
       "      <td>24.411494</td>\n",
       "      <td>0.500001</td>\n",
       "      <td>0.241262</td>\n",
       "    </tr>\n",
       "    <tr>\n",
       "      <th>min</th>\n",
       "      <td>0.000000</td>\n",
       "      <td>0.000000</td>\n",
       "      <td>0.000000</td>\n",
       "      <td>0.000000</td>\n",
       "      <td>0.000000</td>\n",
       "      <td>0.000000</td>\n",
       "      <td>0.000000</td>\n",
       "      <td>37.870000</td>\n",
       "      <td>0.000000</td>\n",
       "      <td>0.000000</td>\n",
       "      <td>0.000000</td>\n",
       "      <td>0.000000</td>\n",
       "      <td>94.000000</td>\n",
       "      <td>0.000000</td>\n",
       "    </tr>\n",
       "    <tr>\n",
       "      <th>25%</th>\n",
       "      <td>15.000000</td>\n",
       "      <td>0.000000</td>\n",
       "      <td>0.000000</td>\n",
       "      <td>0.000000</td>\n",
       "      <td>0.000000</td>\n",
       "      <td>0.000000</td>\n",
       "      <td>0.000000</td>\n",
       "      <td>1061.607500</td>\n",
       "      <td>0.000000</td>\n",
       "      <td>0.000000</td>\n",
       "      <td>2.000000</td>\n",
       "      <td>0.000000</td>\n",
       "      <td>94.000000</td>\n",
       "      <td>0.000000</td>\n",
       "    </tr>\n",
       "    <tr>\n",
       "      <th>50%</th>\n",
       "      <td>33.000000</td>\n",
       "      <td>0.000000</td>\n",
       "      <td>0.000000</td>\n",
       "      <td>0.000000</td>\n",
       "      <td>0.000000</td>\n",
       "      <td>0.000000</td>\n",
       "      <td>0.000000</td>\n",
       "      <td>1618.310000</td>\n",
       "      <td>1.000000</td>\n",
       "      <td>0.000000</td>\n",
       "      <td>2.000000</td>\n",
       "      <td>8.000000</td>\n",
       "      <td>94.000000</td>\n",
       "      <td>0.000000</td>\n",
       "    </tr>\n",
       "    <tr>\n",
       "      <th>75%</th>\n",
       "      <td>50.000000</td>\n",
       "      <td>33.000000</td>\n",
       "      <td>26.000000</td>\n",
       "      <td>0.000000</td>\n",
       "      <td>0.000000</td>\n",
       "      <td>0.000000</td>\n",
       "      <td>0.000000</td>\n",
       "      <td>2188.610000</td>\n",
       "      <td>4.000000</td>\n",
       "      <td>0.000000</td>\n",
       "      <td>2.000000</td>\n",
       "      <td>52.000000</td>\n",
       "      <td>95.000000</td>\n",
       "      <td>0.000000</td>\n",
       "    </tr>\n",
       "    <tr>\n",
       "      <th>max</th>\n",
       "      <td>90.000000</td>\n",
       "      <td>51.000000</td>\n",
       "      <td>46.000000</td>\n",
       "      <td>9999.000000</td>\n",
       "      <td>99999.000000</td>\n",
       "      <td>4608.000000</td>\n",
       "      <td>99999.000000</td>\n",
       "      <td>18656.300000</td>\n",
       "      <td>6.000000</td>\n",
       "      <td>2.000000</td>\n",
       "      <td>2.000000</td>\n",
       "      <td>52.000000</td>\n",
       "      <td>95.000000</td>\n",
       "      <td>1.000000</td>\n",
       "    </tr>\n",
       "  </tbody>\n",
       "</table>\n",
       "</div>"
      ],
      "text/plain": [
       "                 age  industry_code  occupation_code  wage_per_hour  \\\n",
       "count  199522.000000  199522.000000    199522.000000  199522.000000   \n",
       "mean       34.494006      15.352397        11.306613      55.427186   \n",
       "std        22.310785      18.067141        14.454218     274.897115   \n",
       "min         0.000000       0.000000         0.000000       0.000000   \n",
       "25%        15.000000       0.000000         0.000000       0.000000   \n",
       "50%        33.000000       0.000000         0.000000       0.000000   \n",
       "75%        50.000000      33.000000        26.000000       0.000000   \n",
       "max        90.000000      51.000000        46.000000    9999.000000   \n",
       "\n",
       "       capital_gains  capital_losses  divdends_from_stocks  instances_weight  \\\n",
       "count  199522.000000   199522.000000         199522.000000     199522.000000   \n",
       "mean      434.721169       37.313975            197.530523       1740.380471   \n",
       "std      4697.542951      271.897097           1984.168581        993.770642   \n",
       "min         0.000000        0.000000              0.000000         37.870000   \n",
       "25%         0.000000        0.000000              0.000000       1061.607500   \n",
       "50%         0.000000        0.000000              0.000000       1618.310000   \n",
       "75%         0.000000        0.000000              0.000000       2188.610000   \n",
       "max     99999.000000     4608.000000          99999.000000      18656.300000   \n",
       "\n",
       "       num_persons_worked_for_employer  own_business_or_self_employed  \\\n",
       "count                    199522.000000                  199522.000000   \n",
       "mean                          1.956190                       0.175439   \n",
       "std                           2.365127                       0.553696   \n",
       "min                           0.000000                       0.000000   \n",
       "25%                           0.000000                       0.000000   \n",
       "50%                           1.000000                       0.000000   \n",
       "75%                           4.000000                       0.000000   \n",
       "max                           6.000000                       2.000000   \n",
       "\n",
       "       veterans_benefit  weeks_worked_in_year           year         income  \n",
       "count     199522.000000         199522.000000  199522.000000  199522.000000  \n",
       "mean           1.514830             23.175013      94.499669       0.062058  \n",
       "std            0.851475             24.411494       0.500001       0.241262  \n",
       "min            0.000000              0.000000      94.000000       0.000000  \n",
       "25%            2.000000              0.000000      94.000000       0.000000  \n",
       "50%            2.000000              8.000000      94.000000       0.000000  \n",
       "75%            2.000000             52.000000      95.000000       0.000000  \n",
       "max            2.000000             52.000000      95.000000       1.000000  "
      ]
     },
     "execution_count": 2,
     "metadata": {},
     "output_type": "execute_result"
    }
   ],
   "source": [
    "data = data[['age','industry_code','occupation_code','education',\n",
    "               'wage_per_hour','marital_status',\n",
    "               'race','hispanic_Origin','sex',\n",
    "               'full_or_part_time_employment_stat','capital_gains','capital_losses','divdends_from_stocks',\n",
    "               'tax_filer_status','detailed_household_and_family_stat',\n",
    "               'detailed_household_summary_in_household','instances_weight','migration_code_change_in_msa',\n",
    "               'migration_code_change_in_reg','migration_code_move_within_reg',\n",
    "               'num_persons_worked_for_employer',\n",
    "               'country_of_birth_father','country_of_birth_mother','country_of_birth_self','citizenship','own_business_or_self_employed',\n",
    "               'veterans_benefit','weeks_worked_in_year','year','income']]\n",
    "data = data.dropna()  # remove empty rows\n",
    "data['income'].replace('[ ]*-[ ]*50000.',0,regex=True,inplace=True) # replace \n",
    "data['income'].replace('[ ]*50000\\+.',1,regex=True,inplace=True)\n",
    "\n",
    "data.describe()"
   ]
  },
  {
   "cell_type": "markdown",
   "metadata": {},
   "source": [
    "\n",
    "<strong> Making better sense of features </strong>\n",
    "\n",
    "Once data is clean, the next step is to select the right features (columns in this case) that contribute to make descrimination between the two studied classes. To get better sense of this information, we will make graphics and chart\n",
    "that give us further information about the correlation between features and income (target value)"
   ]
  },
  {
   "cell_type": "markdown",
   "metadata": {},
   "source": [
    "#####Age\n",
    "First, we will start by studying income in function of age:"
   ]
  },
  {
   "cell_type": "code",
   "execution_count": 3,
   "metadata": {
    "collapsed": false
   },
   "outputs": [
    {
     "data": {
      "text/plain": [
       "<matplotlib.axes._subplots.AxesSubplot at 0x7fddc01180d0>"
      ]
     },
     "execution_count": 3,
     "metadata": {},
     "output_type": "execute_result"
    },
    {
     "data": {
      "image/png": "[encoded data removed]",
      "text/plain": [
       "<matplotlib.figure.Figure at 0x7fddc0118f50>"
      ]
     },
     "metadata": {},
     "output_type": "display_data"
    }
   ],
   "source": [
    "# income distribution higher than 50K$ in function of age \n",
    "data['age'][data['income']==1].hist()"
   ]
  },
  {
   "cell_type": "code",
   "execution_count": 4,
   "metadata": {
    "collapsed": false
   },
   "outputs": [
    {
     "data": {
      "text/plain": [
       "<matplotlib.axes._subplots.AxesSubplot at 0x7fddc00f9250>"
      ]
     },
     "execution_count": 4,
     "metadata": {},
     "output_type": "execute_result"
    },
    {
     "data": {
      "image/png": "[encoded data removed]",
      "text/plain": [
       "<matplotlib.figure.Figure at 0x7fddc0019490>"
      ]
     },
     "metadata": {},
     "output_type": "display_data"
    }
   ],
   "source": [
    "# income distribution less than 50K$ in function of age \n",
    "data['age'][data['income']==0].hist()"
   ]
  },
  {
   "cell_type": "markdown",
   "metadata": {},
   "source": [
    "Adult people (between 30 and 50) is the category that perceives highest wages compared to the rest of population while young generation get the lowest wages. We can conclude that age is criteria of descrimination between salaries. \n",
    "\n",
    "#####Education\n",
    "The next feature to study is diploma. By intuition, we expect that people with higher diploma would get higher salaries. Let's reveal what data hides "
   ]
  },
  {
   "cell_type": "code",
   "execution_count": 5,
   "metadata": {
    "collapsed": false
   },
   "outputs": [
    {
     "data": {
      "text/plain": [
       "<matplotlib.text.Text at 0x7fddbfeb3090>"
      ]
     },
     "execution_count": 5,
     "metadata": {},
     "output_type": "execute_result"
    },
    {
     "data": {
      "image/png": "[encoded data removed]",
      "text/plain": [
       "<matplotlib.figure.Figure at 0x7fddf015ee10>"
      ]
     },
     "metadata": {},
     "output_type": "display_data"
    }
   ],
   "source": [
    "# income distribution in function of diploma\n",
    "education_level_income_high = data[data['income']==1].groupby(['education']).count()\n",
    "education_level_income_high = education_level_income_high[['income']]\n",
    "education_level_income_high.columns = ['people']\n",
    "education_level_income_high.head()\n",
    "\n",
    "\n",
    "education_aggregation = data.groupby(['education']).count()\n",
    "education_aggregation = education_aggregation[['income']]\n",
    "education_aggregation.columns = ['people']\n",
    "education_aggregation.head()\n",
    "education_level_income_high.people = education_level_income_high.people / education_aggregation.people\n",
    "education_level_income_high = education_level_income_high[['people']].sort('people')\n",
    "ax = education_level_income_high.plot(kind = 'bar', color = 'r')\n",
    "ax.set_xticklabels(education_level_income_high.index, rotation=30, fontsize=8, ha='right')\n",
    "ax.set_xlabel('Education Diploma')\n",
    "ax.set_ylabel('average people earning more than 50K$ per diploma')"
   ]
  },
  {
   "cell_type": "markdown",
   "metadata": {},
   "source": [
    "Indeed, the more people have higher degrees the better they are paid \n",
    "\n",
    "####Working hours\n",
    "Analysis of salary in function of working hours"
   ]
  },
  {
   "cell_type": "code",
   "execution_count": 7,
   "metadata": {
    "collapsed": false
   },
   "outputs": [
    {
     "data": {
      "text/plain": [
       "<matplotlib.text.Text at 0x7fddbe4a8b10>"
      ]
     },
     "execution_count": 7,
     "metadata": {},
     "output_type": "execute_result"
    },
    {
     "data": {
      "image/png": "[encoded data removed]",
      "text/plain": [
       "<matplotlib.figure.Figure at 0x7fddbe476f90>"
      ]
     },
     "metadata": {},
     "output_type": "display_data"
    }
   ],
   "source": [
    "\n",
    "time_level_income_high = data[data['income']==1].groupby(['full_or_part_time_employment_stat']).count()\n",
    "time_level_income_high = time_level_income_high[['income']]\n",
    "time_level_income_high.columns = ['people']\n",
    "\n",
    "time_aggregation = data.groupby(['full_or_part_time_employment_stat']).count()\n",
    "time_aggregation = time_aggregation[['income']]\n",
    "time_aggregation.columns = ['people']\n",
    "time_level_income_high.people = time_level_income_high.people / time_aggregation.people\n",
    "time_level_income_high = time_level_income_high[['people']].sort('people')\n",
    "ax = time_level_income_high.plot(kind = 'bar', color = 'r')\n",
    "ax.set_xticklabels(time_level_income_high.index, rotation=30, fontsize=8, ha='right')\n",
    "ax.set_xlabel('working hours')\n",
    "ax.set_ylabel('average people earning more than 50K$ per working hours')"
   ]
  },
  {
   "cell_type": "markdown",
   "metadata": {},
   "source": [
    "From the chart above, we conclude that people who work more hours earn more.\n",
    "\n",
    "####Gender\n",
    "Ananlysis of income in function of gender"
   ]
  },
  {
   "cell_type": "code",
   "execution_count": 8,
   "metadata": {
    "collapsed": false
   },
   "outputs": [
    {
     "name": "stdout",
     "output_type": "stream",
     "text": [
      "0.0256099554735\n",
      "0.0256099554735\n"
     ]
    },
    {
     "data": {
      "image/png": "[encoded data removed]",
      "text/plain": [
       "<matplotlib.figure.Figure at 0x7fddbfd03d90>"
      ]
     },
     "metadata": {},
     "output_type": "display_data"
    }
   ],
   "source": [
    "# repartition of income higher than 50K$ between male and female\n",
    "income_high_by_gender = data[data['income']==1].groupby(['sex']).size()\n",
    "aggregated_gender = data.groupby(['sex']).size()\n",
    "income_high_by_gender = income_high_by_gender/aggregated_gender\n",
    "name = ['Female','Male']\n",
    "frac_man = income_high_by_gender.values[0]/(income_high_by_gender.values[0]+income_high_by_gender.values[1])\n",
    "frac_wome = income_high_by_gender.values[1]/(income_high_by_gender.values[0]+income_high_by_gender.values[1])\n",
    "data_plot = [frac_man,frac_wome]\n",
    "\n",
    "explode=(0.15, 0)\n",
    "plt.pie(data_plot, explode=explode, labels=name, autopct='%1.1f%%', startangle=0, shadow=True)\n",
    "plt.axis('equal')\n",
    "plt.title('normal vs state holiday observations')\n",
    "plt.show()"
   ]
  },
  {
   "cell_type": "markdown",
   "metadata": {
    "raw_mimetype": "text/latex",
    "slideshow": {
     "slide_type": "-"
    }
   },
   "source": [
    "The pie chart illustrates that men earn more than women\n",
    "\n",
    "\n",
    "####Features selection:"
   ]
  },
  {
   "cell_type": "code",
   "execution_count": 9,
   "metadata": {
    "collapsed": false
   },
   "outputs": [],
   "source": [
    "data = data[['age','industry_code','education','marital_status','occupation_code','race','sex','wage_per_hour','country_of_birth_self','citizenship','full_or_part_time_employment_stat','income']]"
   ]
  },
  {
   "cell_type": "markdown",
   "metadata": {},
   "source": [
    "Read test data and extract features"
   ]
  },
  {
   "cell_type": "code",
   "execution_count": 10,
   "metadata": {
    "collapsed": false
   },
   "outputs": [
    {
     "data": {
      "text/html": [
       "<div>\n",
       "<table border=\"1\" class=\"dataframe\">\n",
       "  <thead>\n",
       "    <tr style=\"text-align: right;\">\n",
       "      <th></th>\n",
       "      <th>age</th>\n",
       "      <th>industry_code</th>\n",
       "      <th>occupation_code</th>\n",
       "      <th>education</th>\n",
       "      <th>wage_per_hour</th>\n",
       "      <th>marital_status</th>\n",
       "      <th>race</th>\n",
       "      <th>hispanic_Origin</th>\n",
       "      <th>sex</th>\n",
       "      <th>full_or_part_time_employment_stat</th>\n",
       "      <th>...</th>\n",
       "      <th>num_persons_worked_for_employer</th>\n",
       "      <th>country_of_birth_father</th>\n",
       "      <th>country_of_birth_mother</th>\n",
       "      <th>country_of_birth_self</th>\n",
       "      <th>citizenship</th>\n",
       "      <th>own_business_or_self_employed</th>\n",
       "      <th>veterans_benefit</th>\n",
       "      <th>weeks_worked_in_year</th>\n",
       "      <th>year</th>\n",
       "      <th>income</th>\n",
       "    </tr>\n",
       "  </thead>\n",
       "  <tbody>\n",
       "    <tr>\n",
       "      <th>0</th>\n",
       "      <td>44</td>\n",
       "      <td>37</td>\n",
       "      <td>12</td>\n",
       "      <td>Associates degree-occup /vocational</td>\n",
       "      <td>0</td>\n",
       "      <td>Married-civilian spouse present</td>\n",
       "      <td>White</td>\n",
       "      <td>All other</td>\n",
       "      <td>Female</td>\n",
       "      <td>PT for econ reasons usually PT</td>\n",
       "      <td>...</td>\n",
       "      <td>1</td>\n",
       "      <td>United-States</td>\n",
       "      <td>United-States</td>\n",
       "      <td>United-States</td>\n",
       "      <td>Native- Born in the United States</td>\n",
       "      <td>0</td>\n",
       "      <td>2</td>\n",
       "      <td>26</td>\n",
       "      <td>95</td>\n",
       "      <td>0</td>\n",
       "    </tr>\n",
       "    <tr>\n",
       "      <th>1</th>\n",
       "      <td>2</td>\n",
       "      <td>0</td>\n",
       "      <td>0</td>\n",
       "      <td>Children</td>\n",
       "      <td>0</td>\n",
       "      <td>Never married</td>\n",
       "      <td>White</td>\n",
       "      <td>Mexican-American</td>\n",
       "      <td>Male</td>\n",
       "      <td>Children or Armed Forces</td>\n",
       "      <td>...</td>\n",
       "      <td>0</td>\n",
       "      <td>United-States</td>\n",
       "      <td>United-States</td>\n",
       "      <td>United-States</td>\n",
       "      <td>Native- Born in the United States</td>\n",
       "      <td>0</td>\n",
       "      <td>0</td>\n",
       "      <td>0</td>\n",
       "      <td>95</td>\n",
       "      <td>0</td>\n",
       "    </tr>\n",
       "    <tr>\n",
       "      <th>2</th>\n",
       "      <td>35</td>\n",
       "      <td>29</td>\n",
       "      <td>3</td>\n",
       "      <td>High school graduate</td>\n",
       "      <td>0</td>\n",
       "      <td>Divorced</td>\n",
       "      <td>White</td>\n",
       "      <td>All other</td>\n",
       "      <td>Female</td>\n",
       "      <td>Children or Armed Forces</td>\n",
       "      <td>...</td>\n",
       "      <td>5</td>\n",
       "      <td>United-States</td>\n",
       "      <td>United-States</td>\n",
       "      <td>United-States</td>\n",
       "      <td>Native- Born in the United States</td>\n",
       "      <td>2</td>\n",
       "      <td>2</td>\n",
       "      <td>52</td>\n",
       "      <td>94</td>\n",
       "      <td>0</td>\n",
       "    </tr>\n",
       "    <tr>\n",
       "      <th>3</th>\n",
       "      <td>49</td>\n",
       "      <td>4</td>\n",
       "      <td>34</td>\n",
       "      <td>High school graduate</td>\n",
       "      <td>0</td>\n",
       "      <td>Divorced</td>\n",
       "      <td>White</td>\n",
       "      <td>All other</td>\n",
       "      <td>Male</td>\n",
       "      <td>Full-time schedules</td>\n",
       "      <td>...</td>\n",
       "      <td>4</td>\n",
       "      <td>United-States</td>\n",
       "      <td>United-States</td>\n",
       "      <td>United-States</td>\n",
       "      <td>Native- Born in the United States</td>\n",
       "      <td>0</td>\n",
       "      <td>2</td>\n",
       "      <td>50</td>\n",
       "      <td>95</td>\n",
       "      <td>0</td>\n",
       "    </tr>\n",
       "    <tr>\n",
       "      <th>4</th>\n",
       "      <td>13</td>\n",
       "      <td>0</td>\n",
       "      <td>0</td>\n",
       "      <td>Children</td>\n",
       "      <td>0</td>\n",
       "      <td>Never married</td>\n",
       "      <td>White</td>\n",
       "      <td>All other</td>\n",
       "      <td>Male</td>\n",
       "      <td>Children or Armed Forces</td>\n",
       "      <td>...</td>\n",
       "      <td>0</td>\n",
       "      <td>Germany</td>\n",
       "      <td>United-States</td>\n",
       "      <td>United-States</td>\n",
       "      <td>Native- Born in the United States</td>\n",
       "      <td>0</td>\n",
       "      <td>0</td>\n",
       "      <td>0</td>\n",
       "      <td>94</td>\n",
       "      <td>0</td>\n",
       "    </tr>\n",
       "  </tbody>\n",
       "</table>\n",
       "<p>5 rows × 30 columns</p>\n",
       "</div>"
      ],
      "text/plain": [
       "   age  industry_code  occupation_code                             education  \\\n",
       "0   44             37               12   Associates degree-occup /vocational   \n",
       "1    2              0                0                              Children   \n",
       "2   35             29                3                  High school graduate   \n",
       "3   49              4               34                  High school graduate   \n",
       "4   13              0                0                              Children   \n",
       "\n",
       "   wage_per_hour                    marital_status    race    hispanic_Origin  \\\n",
       "0              0   Married-civilian spouse present   White          All other   \n",
       "1              0                     Never married   White   Mexican-American   \n",
       "2              0                          Divorced   White          All other   \n",
       "3              0                          Divorced   White          All other   \n",
       "4              0                     Never married   White          All other   \n",
       "\n",
       "       sex full_or_part_time_employment_stat  ...    \\\n",
       "0   Female    PT for econ reasons usually PT  ...     \n",
       "1     Male          Children or Armed Forces  ...     \n",
       "2   Female          Children or Armed Forces  ...     \n",
       "3     Male               Full-time schedules  ...     \n",
       "4     Male          Children or Armed Forces  ...     \n",
       "\n",
       "   num_persons_worked_for_employer  country_of_birth_father  \\\n",
       "0                                1            United-States   \n",
       "1                                0            United-States   \n",
       "2                                5            United-States   \n",
       "3                                4            United-States   \n",
       "4                                0                  Germany   \n",
       "\n",
       "   country_of_birth_mother country_of_birth_self  \\\n",
       "0            United-States         United-States   \n",
       "1            United-States         United-States   \n",
       "2            United-States         United-States   \n",
       "3            United-States         United-States   \n",
       "4            United-States         United-States   \n",
       "\n",
       "                          citizenship own_business_or_self_employed  \\\n",
       "0   Native- Born in the United States                             0   \n",
       "1   Native- Born in the United States                             0   \n",
       "2   Native- Born in the United States                             2   \n",
       "3   Native- Born in the United States                             0   \n",
       "4   Native- Born in the United States                             0   \n",
       "\n",
       "   veterans_benefit weeks_worked_in_year year income  \n",
       "0                 2                   26   95      0  \n",
       "1                 0                    0   95      0  \n",
       "2                 2                   52   94      0  \n",
       "3                 2                   50   95      0  \n",
       "4                 0                    0   94      0  \n",
       "\n",
       "[5 rows x 30 columns]"
      ]
     },
     "execution_count": 10,
     "metadata": {},
     "output_type": "execute_result"
    }
   ],
   "source": [
    "data_test = pd.read_csv('census_income_test.csv')\n",
    "data_test.columns = ['age', 'class_of_worker','industry_code','occupation_code','education',\n",
    "                'wage_per_hour','enrolled_in_edu_inst_last_wk','marital_status','major_industry_code',\n",
    "               'major_occupation_code','race','hispanic_Origin','sex','member_of_a_labor_union','reason_for_unemployment',\n",
    "               'full_or_part_time_employment_stat','capital_gains','capital_losses','divdends_from_stocks',\n",
    "               'tax_filer_status','region_of_previous_residence','state_of_previous_residence','detailed_household_and_family_stat',\n",
    "               'detailed_household_summary_in_household','instances_weight','migration_code_change_in_msa',\n",
    "               'migration_code_change_in_reg','migration_code_move_within_reg','live_in_this_house_1_year_ago',\n",
    "               'migration_prev_res_in_sunbelt','num_persons_worked_for_employer','family_members_under_18',\n",
    "               'country_of_birth_father','country_of_birth_mother','country_of_birth_self','citizenship','own_business_or_self_employed',\n",
    "                'fill_inc_questionnaire_for_veterans','veterans_benefit',\n",
    "               'weeks_worked_in_year','year','income']\n",
    "\n",
    "data_test = data_test[['age','industry_code','occupation_code','education',\n",
    "               'wage_per_hour','marital_status',\n",
    "               'race','hispanic_Origin','sex',\n",
    "               'full_or_part_time_employment_stat','capital_gains','capital_losses','divdends_from_stocks',\n",
    "               'tax_filer_status','detailed_household_and_family_stat',\n",
    "               'detailed_household_summary_in_household','instances_weight','migration_code_change_in_msa',\n",
    "               'migration_code_change_in_reg','migration_code_move_within_reg',\n",
    "               'num_persons_worked_for_employer',\n",
    "               'country_of_birth_father','country_of_birth_mother','country_of_birth_self','citizenship','own_business_or_self_employed',\n",
    "               'veterans_benefit','weeks_worked_in_year','year','income']]\n",
    "data_test.replace('[ ]*Not in universe',np.nan, inplace=True,regex=True)\n",
    "\n",
    "data_test = data_test.dropna()\n",
    "data_test['income'].replace('[ ]*-[ ]*50000.',0,regex=True,inplace=True)\n",
    "data_test['income'].replace('[ ]*50000\\+.',1,regex=True,inplace=True)\n",
    "\n",
    "data_test.head()\n",
    "#data_test = data_test.dropna(how='any')"
   ]
  },
  {
   "cell_type": "code",
   "execution_count": 11,
   "metadata": {
    "collapsed": false
   },
   "outputs": [],
   "source": [
    "data_test = data_test[['age','industry_code','education','marital_status','occupation_code','race','sex','wage_per_hour','country_of_birth_self','citizenship','full_or_part_time_employment_stat','income']]          \n",
    "formula = 'income ~  age + industry_code + education + marital_status + occupation_code + race + sex + wage_per_hour + country_of_birth_self+citizenship+full_or_part_time_employment_stat ' \n",
    "y_train,x_train = dmatrices(formula, data=data, return_type='dataframe')\n",
    "y_test,x_test = dmatrices(formula, data=data_test, return_type='dataframe')\n",
    "\n"
   ]
  },
  {
   "cell_type": "markdown",
   "metadata": {},
   "source": [
    "##Model"
   ]
  },
  {
   "cell_type": "markdown",
   "metadata": {},
   "source": [
    "<strong>Logistic regression</strong>"
   ]
  },
  {
   "cell_type": "code",
   "execution_count": 16,
   "metadata": {
    "collapsed": false
   },
   "outputs": [
    {
     "name": "stdout",
     "output_type": "stream",
     "text": [
      "Predicted      0     1\n",
      "Actual                \n",
      "0          92013   839\n",
      "1           4909  1277\n",
      "             precision    recall  f1-score   support\n",
      "\n",
      "        0.0       0.95      0.99      0.97     92852\n",
      "        1.0       0.60      0.21      0.31      6186\n",
      "\n",
      "avg / total       0.93      0.94      0.93     99038\n",
      "\n"
     ]
    }
   ],
   "source": [
    "# logistic regression\n",
    "from sklearn.metrics import classification_report\n",
    "logreg = linear_model.LogisticRegression()\n",
    "logreg = logreg.fit(x_train, y_train.income)\n",
    "\n",
    "y_pred = logreg.predict(x_test)\n",
    "\n",
    "print pd.crosstab(y_test.income\n",
    "                  ,y_pred\n",
    "                  ,rownames = ['Actual']\n",
    "                  ,colnames = ['Predicted'])\n",
    "\n",
    "print classification_report(y_test.income,y_pred)"
   ]
  },
  {
   "cell_type": "markdown",
   "metadata": {},
   "source": [
    "Precision is the fraction of retrieved instances that are relevant, while recall is the fraction of relevant instances that are retrieved. The precision of predicting for class 0 zero is higher than class 1 (0.95 vs 0.6). The recall is also  higher for the first class. This lead in the end to prediction rate of 93% on the test set"
   ]
  },
  {
   "cell_type": "markdown",
   "metadata": {},
   "source": [
    "<strong>Decesion Trees</strong>"
   ]
  },
  {
   "cell_type": "code",
   "execution_count": 17,
   "metadata": {
    "collapsed": false
   },
   "outputs": [
    {
     "name": "stdout",
     "output_type": "stream",
     "text": [
      "Predicted      0     1\n",
      "Actual                \n",
      "0          89301  3551\n",
      "1           3901  2285\n",
      "\n",
      " \n",
      "\n",
      "             precision    recall  f1-score   support\n",
      "\n",
      "        0.0       0.96      0.96      0.96     92852\n",
      "        1.0       0.39      0.37      0.38      6186\n",
      "\n",
      "avg / total       0.92      0.92      0.92     99038\n",
      "\n"
     ]
    }
   ],
   "source": [
    "\n",
    "\n",
    "clf = tree.DecisionTreeClassifier()\n",
    "clf = clf.fit(x_train, y_train)\n",
    "\n",
    "y_pred = clf.predict(x_test)\n",
    "\n",
    "print pd.crosstab(y_test.income\n",
    "                  ,y_pred\n",
    "                  ,rownames = ['Actual']\n",
    "                  ,colnames = ['Predicted'])\n",
    "\n",
    "print '\\n \\n'\n",
    "\n",
    "print classification_report(y_test.income,y_pred)"
   ]
  },
  {
   "cell_type": "markdown",
   "metadata": {},
   "source": [
    "With decision trees, performance decreased compared to logistic regression since the overall prediction error decreased by 1% (92%)"
   ]
  },
  {
   "cell_type": "markdown",
   "metadata": {},
   "source": [
    "<strong>Random Forest</strong>"
   ]
  },
  {
   "cell_type": "code",
   "execution_count": 18,
   "metadata": {
    "collapsed": false
   },
   "outputs": [],
   "source": [
    "# Random Forest\n",
    "\n",
    "import sklearn.ensemble as sk\n",
    "\n",
    "clf = sk.RandomForestClassifier(n_estimators=100, oob_score=True,min_samples_split=5, min_samples_leaf= 2)\n",
    "clf = clf.fit(x_train, y_train.income)"
   ]
  },
  {
   "cell_type": "code",
   "execution_count": 19,
   "metadata": {
    "collapsed": false
   },
   "outputs": [
    {
     "name": "stdout",
     "output_type": "stream",
     "text": [
      "Predicted      0     1\n",
      "Actual                \n",
      "0          92069   783\n",
      "1           4474  1712\n",
      "\n",
      " \n",
      "\n",
      "             precision    recall  f1-score   support\n",
      "\n",
      "        0.0       0.95      0.99      0.97     92852\n",
      "        1.0       0.69      0.28      0.39      6186\n",
      "\n",
      "avg / total       0.94      0.95      0.94     99038\n",
      "\n"
     ]
    }
   ],
   "source": [
    "y_pred = clf.predict(x_test)\n",
    "\n",
    "print pd.crosstab(y_test.income\n",
    "                  ,y_pred\n",
    "                  ,rownames = ['Actual']\n",
    "                  ,colnames = ['Predicted'])\n",
    "\n",
    "print '\\n \\n'\n",
    "\n",
    "print classification_report(y_test.income,y_pred)"
   ]
  },
  {
   "cell_type": "markdown",
   "metadata": {},
   "source": [
    "The random forest perfoms better thant Decesion Trees and Logistic regression by increasing the prediction accuracy to 94% (for precision) and 95% (for recall). In the same time, computation time increased using random forest."
   ]
  },
  {
   "cell_type": "markdown",
   "metadata": {},
   "source": [
    "####Challenges\n",
    "The main challenging parts are:\n",
    "- understanding the data: getting sense of the values per each column and the correlation between target and features.\n",
    "- Tunning model hyperparameters is also important because it requires a statiscal and mathematical knolwedge besides to computer science technicity (sklearn packages and python libraries).\n"
   ]
  }
 ],
 "metadata": {
  "kernelspec": {
   "display_name": "Python 2",
   "language": "python",
   "name": "python2"
  },
  "language_info": {
   "codemirror_mode": {
    "name": "ipython",
    "version": 2
   },
   "file_extension": ".py",
   "mimetype": "text/x-python",
   "name": "python",
   "nbconvert_exporter": "python",
   "pygments_lexer": "ipython2",
   "version": "2.7.10"
  }
 },
 "nbformat": 4,
 "nbformat_minor": 0
}
